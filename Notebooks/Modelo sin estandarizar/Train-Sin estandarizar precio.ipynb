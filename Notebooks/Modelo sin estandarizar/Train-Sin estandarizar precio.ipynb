{
 "cells": [
  {
   "cell_type": "code",
   "execution_count": 1,
   "id": "f4fd0918",
   "metadata": {},
   "outputs": [],
   "source": [
    "import pandas as pd\n",
    "import numpy as np\n",
    "\n",
    "# librerías de visualización\n",
    "import seaborn as sns\n",
    "import matplotlib.pyplot as plt\n",
    "\n",
    "# librerías para crear el modelo\n",
    "from sklearn.model_selection import train_test_split\n",
    "from sklearn.preprocessing import StandardScaler\n",
    "from sklearn.model_selection import GridSearchCV\n",
    "from sklearn import tree\n",
    "\n",
    "# para calcular las métricas\n",
    "from sklearn.metrics import confusion_matrix\n",
    "from sklearn.metrics import accuracy_score \n",
    "from sklearn.metrics import precision_score \n",
    "from sklearn.metrics import recall_score \n",
    "from sklearn.metrics import f1_score \n",
    "from sklearn.metrics import cohen_kappa_score\n",
    "\n",
    "\n",
    "from sklearn.linear_model import LogisticRegression\n",
    "from sklearn.ensemble import RandomForestClassifier\n",
    "from sklearn.tree import DecisionTreeClassifier\n",
    "\n",
    "\n",
    "from sklearn.preprocessing import OrdinalEncoder\n",
    "from sklearn.model_selection import cross_val_score\n",
    "from sklearn.neighbors import KNeighborsClassifier\n",
    "from sklearn.metrics import classification_report, confusion_matrix, accuracy_score\n",
    "from sklearn.ensemble import GradientBoostingClassifier\n",
    "from sklearn.model_selection import RandomizedSearchCV\n",
    "\n",
    "import pandas as pd\n",
    "import matplotlib.pyplot as plt\n",
    "import seaborn as sns \n",
    "from sklearn.preprocessing import OrdinalEncoder\n",
    "\n",
    "import warnings\n",
    "warnings.filterwarnings('ignore')\n",
    "pd.options.display.max_columns = None\n",
    "\n",
    "import pickle"
   ]
  },
  {
   "cell_type": "code",
   "execution_count": 2,
   "id": "f8aec2ff",
   "metadata": {},
   "outputs": [],
   "source": [
    "id= \"only for test & sample submission files, id for prediction sample identification\"\n",
    "price= \"price in USD\"\n",
    "carat= \"weight of the diamond\"\n",
    "cut= \"quality of the cut (Fair, Good, Very Good, Premium, Ideal)\"\n",
    "color= \"diamond colour\"\n",
    "clarity= \"a measurement of how clear the diamond is\"\n",
    "x= \"length in mm\"\n",
    "y= \"width in mm\"\n",
    "z= \"depth in mm\"\n",
    "depth= \"total depth percentage = z / mean(x, y) = 2 * z / (x + y) (43--79)\"\n",
    "table= \"width of top of diamond relative to widest point (43--95)\""
   ]
  },
  {
   "cell_type": "code",
   "execution_count": 3,
   "id": "df105931",
   "metadata": {},
   "outputs": [],
   "source": [
    "df = pd.read_csv(\"data/train2.csv\")"
   ]
  },
  {
   "cell_type": "markdown",
   "id": "32b28cc0",
   "metadata": {},
   "source": [
    "## Encoding"
   ]
  },
  {
   "cell_type": "code",
   "execution_count": 4,
   "id": "764192c8",
   "metadata": {},
   "outputs": [
    {
     "data": {
      "image/png": "[encoded data removed]",
      "text/plain": [
       "<Figure size 1080x360 with 3 Axes>"
      ]
     },
     "metadata": {
      "needs_background": "light"
     },
     "output_type": "display_data"
    }
   ],
   "source": [
    "fig, axs = plt.subplots(ncols=3, figsize=(15,5))\n",
    "\n",
    "# Hacemos un bucle for para graficar cada columna en un subgráfico diferente\n",
    "for i, columna in enumerate([\"clarity\", \"cut\", \"color\"]):\n",
    "    df_relacion_cate = df.groupby(columna)[\"price\"].mean().reset_index()\n",
    "    sns.barplot(data=df_relacion_cate, x=columna, y=\"price\", ax=axs[i])\n",
    "    axs[i].set_title(columna)\n",
    "\n",
    "# Mostramos la figura\n",
    "plt.show()"
   ]
  },
  {
   "cell_type": "code",
   "execution_count": 5,
   "id": "938f9652",
   "metadata": {},
   "outputs": [
    {
     "name": "stdout",
     "output_type": "stream",
     "text": [
      "cut : ['Premium' 'Ideal' 'Very Good' 'Fair' 'Good']\n",
      "color : ['D' 'E' 'F' 'G' 'H' 'I' 'J']\n",
      "clarity : ['SI2' 'VVS2' 'VS2' 'VS1' 'SI1' 'VVS1' 'IF' 'I1']\n"
     ]
    }
   ],
   "source": [
    "columnas_object = df.select_dtypes(include=\"object\").columns\n",
    "for i in columnas_object:\n",
    "    print(f\"{i} : {df[i].unique()}\")"
   ]
  },
  {
   "cell_type": "code",
   "execution_count": 6,
   "id": "e64cc813",
   "metadata": {},
   "outputs": [],
   "source": [
    "orden_cut = ['Ideal', 'Good', 'Very Good','Premium' , 'Fair' ]\n",
    "orden_color = ['E','D',  'F', 'G', 'H', 'I', 'J']\n",
    "orden_clarity = ['VVS1','IF','VS1','SI1','SI2','VS2','I1', 'VVS2'] "
   ]
  },
  {
   "cell_type": "code",
   "execution_count": 7,
   "id": "c8a3650c",
   "metadata": {},
   "outputs": [],
   "source": [
    "def ordinal_encoder(orden, df, columna):\n",
    "    ordinal = OrdinalEncoder(categories = [orden], dtype = int)\n",
    "    transformados_oe = ordinal.fit_transform(df[[columna]])\n",
    "    df[columna] = transformados_oe\n",
    "    \n",
    "    with open(f'data/encoding{columna}.pkl', 'wb') as s:\n",
    "        pickle.dump(ordinal, s)\n",
    "    return df"
   ]
  },
  {
   "cell_type": "code",
   "execution_count": 8,
   "id": "b6c9bb6b",
   "metadata": {},
   "outputs": [],
   "source": [
    "df = ordinal_encoder(orden_cut, df, \"cut\")\n",
    "df = ordinal_encoder(orden_color, df, \"color\")\n",
    "df = ordinal_encoder(orden_clarity, df, \"clarity\")"
   ]
  },
  {
   "cell_type": "code",
   "execution_count": 9,
   "id": "fbdfa501",
   "metadata": {},
   "outputs": [
    {
     "data": {
      "text/html": [
       "<div>\n",
       "<style scoped>\n",
       "    .dataframe tbody tr th:only-of-type {\n",
       "        vertical-align: middle;\n",
       "    }\n",
       "\n",
       "    .dataframe tbody tr th {\n",
       "        vertical-align: top;\n",
       "    }\n",
       "\n",
       "    .dataframe thead th {\n",
       "        text-align: right;\n",
       "    }\n",
       "</style>\n",
       "<table border=\"1\" class=\"dataframe\">\n",
       "  <thead>\n",
       "    <tr style=\"text-align: right;\">\n",
       "      <th></th>\n",
       "      <th>Unnamed: 0</th>\n",
       "      <th>id</th>\n",
       "      <th>carat</th>\n",
       "      <th>cut</th>\n",
       "      <th>color</th>\n",
       "      <th>clarity</th>\n",
       "      <th>depth</th>\n",
       "      <th>table</th>\n",
       "      <th>x</th>\n",
       "      <th>y</th>\n",
       "      <th>z</th>\n",
       "      <th>price</th>\n",
       "    </tr>\n",
       "  </thead>\n",
       "  <tbody>\n",
       "    <tr>\n",
       "      <th>0</th>\n",
       "      <td>0</td>\n",
       "      <td>0</td>\n",
       "      <td>0.30</td>\n",
       "      <td>3</td>\n",
       "      <td>1</td>\n",
       "      <td>4</td>\n",
       "      <td>62.4</td>\n",
       "      <td>58.0</td>\n",
       "      <td>4.31</td>\n",
       "      <td>4.28</td>\n",
       "      <td>2.68</td>\n",
       "      <td>6.353</td>\n",
       "    </tr>\n",
       "    <tr>\n",
       "      <th>1</th>\n",
       "      <td>1</td>\n",
       "      <td>1</td>\n",
       "      <td>1.01</td>\n",
       "      <td>0</td>\n",
       "      <td>0</td>\n",
       "      <td>7</td>\n",
       "      <td>62.7</td>\n",
       "      <td>56.0</td>\n",
       "      <td>6.42</td>\n",
       "      <td>6.46</td>\n",
       "      <td>4.04</td>\n",
       "      <td>9.183</td>\n",
       "    </tr>\n",
       "    <tr>\n",
       "      <th>2</th>\n",
       "      <td>2</td>\n",
       "      <td>2</td>\n",
       "      <td>0.72</td>\n",
       "      <td>0</td>\n",
       "      <td>2</td>\n",
       "      <td>5</td>\n",
       "      <td>61.8</td>\n",
       "      <td>59.0</td>\n",
       "      <td>5.71</td>\n",
       "      <td>5.74</td>\n",
       "      <td>3.54</td>\n",
       "      <td>7.983</td>\n",
       "    </tr>\n",
       "    <tr>\n",
       "      <th>3</th>\n",
       "      <td>3</td>\n",
       "      <td>3</td>\n",
       "      <td>1.08</td>\n",
       "      <td>2</td>\n",
       "      <td>3</td>\n",
       "      <td>4</td>\n",
       "      <td>63.2</td>\n",
       "      <td>57.0</td>\n",
       "      <td>6.54</td>\n",
       "      <td>6.50</td>\n",
       "      <td>4.12</td>\n",
       "      <td>8.371</td>\n",
       "    </tr>\n",
       "    <tr>\n",
       "      <th>4</th>\n",
       "      <td>4</td>\n",
       "      <td>4</td>\n",
       "      <td>0.36</td>\n",
       "      <td>3</td>\n",
       "      <td>3</td>\n",
       "      <td>2</td>\n",
       "      <td>62.3</td>\n",
       "      <td>59.0</td>\n",
       "      <td>4.50</td>\n",
       "      <td>4.55</td>\n",
       "      <td>2.82</td>\n",
       "      <td>6.588</td>\n",
       "    </tr>\n",
       "  </tbody>\n",
       "</table>\n",
       "</div>"
      ],
      "text/plain": [
       "   Unnamed: 0  id  carat  cut  color  clarity  depth  table     x     y     z  \\\n",
       "0           0   0   0.30    3      1        4   62.4   58.0  4.31  4.28  2.68   \n",
       "1           1   1   1.01    0      0        7   62.7   56.0  6.42  6.46  4.04   \n",
       "2           2   2   0.72    0      2        5   61.8   59.0  5.71  5.74  3.54   \n",
       "3           3   3   1.08    2      3        4   63.2   57.0  6.54  6.50  4.12   \n",
       "4           4   4   0.36    3      3        2   62.3   59.0  4.50  4.55  2.82   \n",
       "\n",
       "   price  \n",
       "0  6.353  \n",
       "1  9.183  \n",
       "2  7.983  \n",
       "3  8.371  \n",
       "4  6.588  "
      ]
     },
     "execution_count": 9,
     "metadata": {},
     "output_type": "execute_result"
    }
   ],
   "source": [
    "df.head()"
   ]
  },
  {
   "cell_type": "markdown",
   "id": "c3457860",
   "metadata": {},
   "source": [
    "## Estandarización"
   ]
  },
  {
   "cell_type": "code",
   "execution_count": 10,
   "id": "814216fa",
   "metadata": {},
   "outputs": [
    {
     "data": {
      "text/plain": [
       "Index(['Unnamed: 0', 'id', 'carat', 'cut', 'color', 'clarity', 'depth',\n",
       "       'table', 'x', 'y', 'z', 'price'],\n",
       "      dtype='object')"
      ]
     },
     "execution_count": 10,
     "metadata": {},
     "output_type": "execute_result"
    }
   ],
   "source": [
    "df.select_dtypes(include=np.number).columns"
   ]
  },
  {
   "cell_type": "code",
   "execution_count": 11,
   "id": "61b8deee",
   "metadata": {},
   "outputs": [],
   "source": [
    "#las que tenemos que estandarizar:\n",
    "df_standar=df[['carat', 'depth', 'table', 'x', 'y',\n",
    "       'z']]"
   ]
  },
  {
   "cell_type": "code",
   "execution_count": 12,
   "id": "ec19d35c",
   "metadata": {},
   "outputs": [],
   "source": [
    "scaler = StandardScaler()"
   ]
  },
  {
   "cell_type": "code",
   "execution_count": 13,
   "id": "9938611b",
   "metadata": {},
   "outputs": [
    {
     "data": {
      "text/html": [
       "<div>\n",
       "<style scoped>\n",
       "    .dataframe tbody tr th:only-of-type {\n",
       "        vertical-align: middle;\n",
       "    }\n",
       "\n",
       "    .dataframe tbody tr th {\n",
       "        vertical-align: top;\n",
       "    }\n",
       "\n",
       "    .dataframe thead th {\n",
       "        text-align: right;\n",
       "    }\n",
       "</style>\n",
       "<table border=\"1\" class=\"dataframe\">\n",
       "  <thead>\n",
       "    <tr style=\"text-align: right;\">\n",
       "      <th></th>\n",
       "      <th>Unnamed: 0</th>\n",
       "      <th>id</th>\n",
       "      <th>carat</th>\n",
       "      <th>cut</th>\n",
       "      <th>color</th>\n",
       "      <th>clarity</th>\n",
       "      <th>depth</th>\n",
       "      <th>table</th>\n",
       "      <th>x</th>\n",
       "      <th>y</th>\n",
       "      <th>z</th>\n",
       "      <th>price</th>\n",
       "    </tr>\n",
       "  </thead>\n",
       "  <tbody>\n",
       "    <tr>\n",
       "      <th>0</th>\n",
       "      <td>0</td>\n",
       "      <td>0</td>\n",
       "      <td>-1.045473</td>\n",
       "      <td>3</td>\n",
       "      <td>1</td>\n",
       "      <td>4</td>\n",
       "      <td>0.454922</td>\n",
       "      <td>0.245377</td>\n",
       "      <td>-1.261220</td>\n",
       "      <td>-1.258153</td>\n",
       "      <td>-1.205849</td>\n",
       "      <td>6.353</td>\n",
       "    </tr>\n",
       "    <tr>\n",
       "      <th>1</th>\n",
       "      <td>1</td>\n",
       "      <td>1</td>\n",
       "      <td>0.446332</td>\n",
       "      <td>0</td>\n",
       "      <td>0</td>\n",
       "      <td>7</td>\n",
       "      <td>0.663723</td>\n",
       "      <td>-0.649661</td>\n",
       "      <td>0.613952</td>\n",
       "      <td>0.629644</td>\n",
       "      <td>0.706968</td>\n",
       "      <td>9.183</td>\n",
       "    </tr>\n",
       "    <tr>\n",
       "      <th>2</th>\n",
       "      <td>2</td>\n",
       "      <td>2</td>\n",
       "      <td>-0.162997</td>\n",
       "      <td>0</td>\n",
       "      <td>2</td>\n",
       "      <td>5</td>\n",
       "      <td>0.037321</td>\n",
       "      <td>0.692896</td>\n",
       "      <td>-0.017031</td>\n",
       "      <td>0.006152</td>\n",
       "      <td>0.003726</td>\n",
       "      <td>7.983</td>\n",
       "    </tr>\n",
       "    <tr>\n",
       "      <th>3</th>\n",
       "      <td>3</td>\n",
       "      <td>3</td>\n",
       "      <td>0.593412</td>\n",
       "      <td>2</td>\n",
       "      <td>3</td>\n",
       "      <td>4</td>\n",
       "      <td>1.011723</td>\n",
       "      <td>-0.202142</td>\n",
       "      <td>0.720596</td>\n",
       "      <td>0.664283</td>\n",
       "      <td>0.819486</td>\n",
       "      <td>8.371</td>\n",
       "    </tr>\n",
       "    <tr>\n",
       "      <th>4</th>\n",
       "      <td>4</td>\n",
       "      <td>4</td>\n",
       "      <td>-0.919405</td>\n",
       "      <td>3</td>\n",
       "      <td>3</td>\n",
       "      <td>2</td>\n",
       "      <td>0.385322</td>\n",
       "      <td>0.692896</td>\n",
       "      <td>-1.092366</td>\n",
       "      <td>-1.024343</td>\n",
       "      <td>-1.008941</td>\n",
       "      <td>6.588</td>\n",
       "    </tr>\n",
       "  </tbody>\n",
       "</table>\n",
       "</div>"
      ],
      "text/plain": [
       "   Unnamed: 0  id     carat  cut  color  clarity     depth     table  \\\n",
       "0           0   0 -1.045473    3      1        4  0.454922  0.245377   \n",
       "1           1   1  0.446332    0      0        7  0.663723 -0.649661   \n",
       "2           2   2 -0.162997    0      2        5  0.037321  0.692896   \n",
       "3           3   3  0.593412    2      3        4  1.011723 -0.202142   \n",
       "4           4   4 -0.919405    3      3        2  0.385322  0.692896   \n",
       "\n",
       "          x         y         z  price  \n",
       "0 -1.261220 -1.258153 -1.205849  6.353  \n",
       "1  0.613952  0.629644  0.706968  9.183  \n",
       "2 -0.017031  0.006152  0.003726  7.983  \n",
       "3  0.720596  0.664283  0.819486  8.371  \n",
       "4 -1.092366 -1.024343 -1.008941  6.588  "
      ]
     },
     "execution_count": 13,
     "metadata": {},
     "output_type": "execute_result"
    }
   ],
   "source": [
    "scaler.fit(df_standar)\n",
    "X_escaladas = scaler.transform(df_standar)\n",
    "df[df_standar.columns] = X_escaladas\n",
    "df.head()"
   ]
  },
  {
   "cell_type": "code",
   "execution_count": 14,
   "id": "e1e857f0",
   "metadata": {},
   "outputs": [],
   "source": [
    "with open('data/estandarizacion.pkl', 'wb') as s:\n",
    "    pickle.dump(scaler, s)"
   ]
  },
  {
   "cell_type": "code",
   "execution_count": 15,
   "id": "906a956e",
   "metadata": {},
   "outputs": [],
   "source": [
    "df.drop(\"Unnamed: 0\",axis=1, inplace=True)"
   ]
  },
  {
   "cell_type": "code",
   "execution_count": 16,
   "id": "009f0498",
   "metadata": {},
   "outputs": [
    {
     "data": {
      "text/html": [
       "<div>\n",
       "<style scoped>\n",
       "    .dataframe tbody tr th:only-of-type {\n",
       "        vertical-align: middle;\n",
       "    }\n",
       "\n",
       "    .dataframe tbody tr th {\n",
       "        vertical-align: top;\n",
       "    }\n",
       "\n",
       "    .dataframe thead th {\n",
       "        text-align: right;\n",
       "    }\n",
       "</style>\n",
       "<table border=\"1\" class=\"dataframe\">\n",
       "  <thead>\n",
       "    <tr style=\"text-align: right;\">\n",
       "      <th></th>\n",
       "      <th>price</th>\n",
       "    </tr>\n",
       "  </thead>\n",
       "  <tbody>\n",
       "    <tr>\n",
       "      <th>0</th>\n",
       "      <td>6.353</td>\n",
       "    </tr>\n",
       "    <tr>\n",
       "      <th>1</th>\n",
       "      <td>9.183</td>\n",
       "    </tr>\n",
       "    <tr>\n",
       "      <th>2</th>\n",
       "      <td>7.983</td>\n",
       "    </tr>\n",
       "    <tr>\n",
       "      <th>3</th>\n",
       "      <td>8.371</td>\n",
       "    </tr>\n",
       "    <tr>\n",
       "      <th>4</th>\n",
       "      <td>6.588</td>\n",
       "    </tr>\n",
       "  </tbody>\n",
       "</table>\n",
       "</div>"
      ],
      "text/plain": [
       "   price\n",
       "0  6.353\n",
       "1  9.183\n",
       "2  7.983\n",
       "3  8.371\n",
       "4  6.588"
      ]
     },
     "execution_count": 16,
     "metadata": {},
     "output_type": "execute_result"
    }
   ],
   "source": [
    "df_standar_price=df[[\"price\"]]\n",
    "df_standar_price.head()"
   ]
  },
  {
   "cell_type": "code",
   "execution_count": 18,
   "id": "310c0135",
   "metadata": {},
   "outputs": [],
   "source": [
    "df.to_csv(\"data/train_sinprecio.csv\", index=False)"
   ]
  }
 ],
 "metadata": {
  "kernelspec": {
   "display_name": "Python 3 (ipykernel)",
   "language": "python",
   "name": "python3"
  },
  "language_info": {
   "codemirror_mode": {
    "name": "ipython",
    "version": 3
   },
   "file_extension": ".py",
   "mimetype": "text/x-python",
   "name": "python",
   "nbconvert_exporter": "python",
   "pygments_lexer": "ipython3",
   "version": "3.9.12"
  }
 },
 "nbformat": 4,
 "nbformat_minor": 5
}
