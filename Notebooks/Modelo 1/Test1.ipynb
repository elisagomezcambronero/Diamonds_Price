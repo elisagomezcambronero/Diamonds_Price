{
 "cells": [
  {
   "cell_type": "code",
   "execution_count": 1,
   "id": "360345a9",
   "metadata": {},
   "outputs": [],
   "source": [
    "import pickle\n",
    "import pandas as pd"
   ]
  },
  {
   "cell_type": "code",
   "execution_count": 2,
   "id": "f0e5d2fc",
   "metadata": {},
   "outputs": [],
   "source": [
    "df = pd.read_csv(\"data/test.csv\")"
   ]
  },
  {
   "cell_type": "code",
   "execution_count": 3,
   "id": "a64da55f",
   "metadata": {},
   "outputs": [],
   "source": [
    "# encoding cut\n",
    "with open('data/encodingcut.pkl', 'rb') as cut:\n",
    "    encoding_cut = pickle.load(cut)\n",
    "    \n",
    "# encoding color\n",
    "with open('data/encodingcolor.pkl', 'rb') as color:\n",
    "    encoding_color = pickle.load(color)\n",
    "    \n",
    "# encoding clarity\n",
    "with open('data/encodingclarity.pkl', 'rb') as clarity:\n",
    "    encoding_clarity = pickle.load(clarity)"
   ]
  },
  {
   "cell_type": "code",
   "execution_count": 4,
   "id": "00608768",
   "metadata": {},
   "outputs": [],
   "source": [
    "# estandarización\n",
    "with open('data/estandarizacion.pkl', 'rb') as estandarizacion:\n",
    "    estandarizacion = pickle.load(estandarizacion)"
   ]
  },
  {
   "cell_type": "code",
   "execution_count": 5,
   "id": "b261b9af",
   "metadata": {},
   "outputs": [],
   "source": [
    "with open('data/gradient_modelo3.pkl', 'rb') as modelo:\n",
    "    modelo = pickle.load(modelo)"
   ]
  },
  {
   "cell_type": "code",
   "execution_count": 6,
   "id": "b12e77fc",
   "metadata": {},
   "outputs": [
    {
     "data": {
      "text/html": [
       "<div>\n",
       "<style scoped>\n",
       "    .dataframe tbody tr th:only-of-type {\n",
       "        vertical-align: middle;\n",
       "    }\n",
       "\n",
       "    .dataframe tbody tr th {\n",
       "        vertical-align: top;\n",
       "    }\n",
       "\n",
       "    .dataframe thead th {\n",
       "        text-align: right;\n",
       "    }\n",
       "</style>\n",
       "<table border=\"1\" class=\"dataframe\">\n",
       "  <thead>\n",
       "    <tr style=\"text-align: right;\">\n",
       "      <th></th>\n",
       "      <th>id</th>\n",
       "      <th>carat</th>\n",
       "      <th>cut</th>\n",
       "      <th>color</th>\n",
       "      <th>clarity</th>\n",
       "      <th>depth</th>\n",
       "      <th>table</th>\n",
       "      <th>x</th>\n",
       "      <th>y</th>\n",
       "      <th>z</th>\n",
       "    </tr>\n",
       "  </thead>\n",
       "  <tbody>\n",
       "    <tr>\n",
       "      <th>4296</th>\n",
       "      <td>4296</td>\n",
       "      <td>0.72</td>\n",
       "      <td>Very Good</td>\n",
       "      <td>I</td>\n",
       "      <td>VS2</td>\n",
       "      <td>61.1</td>\n",
       "      <td>56.0</td>\n",
       "      <td>5.76</td>\n",
       "      <td>5.79</td>\n",
       "      <td>3.53</td>\n",
       "    </tr>\n",
       "    <tr>\n",
       "      <th>2094</th>\n",
       "      <td>2094</td>\n",
       "      <td>0.51</td>\n",
       "      <td>Ideal</td>\n",
       "      <td>F</td>\n",
       "      <td>VVS2</td>\n",
       "      <td>61.8</td>\n",
       "      <td>56.0</td>\n",
       "      <td>5.13</td>\n",
       "      <td>5.16</td>\n",
       "      <td>3.18</td>\n",
       "    </tr>\n",
       "    <tr>\n",
       "      <th>8428</th>\n",
       "      <td>8428</td>\n",
       "      <td>0.70</td>\n",
       "      <td>Very Good</td>\n",
       "      <td>E</td>\n",
       "      <td>SI2</td>\n",
       "      <td>59.8</td>\n",
       "      <td>58.0</td>\n",
       "      <td>5.74</td>\n",
       "      <td>5.76</td>\n",
       "      <td>3.44</td>\n",
       "    </tr>\n",
       "    <tr>\n",
       "      <th>8314</th>\n",
       "      <td>8314</td>\n",
       "      <td>0.51</td>\n",
       "      <td>Ideal</td>\n",
       "      <td>G</td>\n",
       "      <td>VVS2</td>\n",
       "      <td>62.7</td>\n",
       "      <td>55.0</td>\n",
       "      <td>5.08</td>\n",
       "      <td>5.10</td>\n",
       "      <td>3.19</td>\n",
       "    </tr>\n",
       "  </tbody>\n",
       "</table>\n",
       "</div>"
      ],
      "text/plain": [
       "        id  carat        cut color clarity  depth  table     x     y     z\n",
       "4296  4296   0.72  Very Good     I     VS2   61.1   56.0  5.76  5.79  3.53\n",
       "2094  2094   0.51      Ideal     F    VVS2   61.8   56.0  5.13  5.16  3.18\n",
       "8428  8428   0.70  Very Good     E     SI2   59.8   58.0  5.74  5.76  3.44\n",
       "8314  8314   0.51      Ideal     G    VVS2   62.7   55.0  5.08  5.10  3.19"
      ]
     },
     "execution_count": 6,
     "metadata": {},
     "output_type": "execute_result"
    }
   ],
   "source": [
    "df.sample(4)"
   ]
  },
  {
   "cell_type": "code",
   "execution_count": 7,
   "id": "a6776881",
   "metadata": {},
   "outputs": [
    {
     "data": {
      "text/html": [
       "<div>\n",
       "<style scoped>\n",
       "    .dataframe tbody tr th:only-of-type {\n",
       "        vertical-align: middle;\n",
       "    }\n",
       "\n",
       "    .dataframe tbody tr th {\n",
       "        vertical-align: top;\n",
       "    }\n",
       "\n",
       "    .dataframe thead th {\n",
       "        text-align: right;\n",
       "    }\n",
       "</style>\n",
       "<table border=\"1\" class=\"dataframe\">\n",
       "  <thead>\n",
       "    <tr style=\"text-align: right;\">\n",
       "      <th></th>\n",
       "      <th>carat</th>\n",
       "      <th>depth</th>\n",
       "      <th>table</th>\n",
       "      <th>x</th>\n",
       "      <th>y</th>\n",
       "      <th>z</th>\n",
       "    </tr>\n",
       "  </thead>\n",
       "  <tbody>\n",
       "    <tr>\n",
       "      <th>0</th>\n",
       "      <td>-1.003451</td>\n",
       "      <td>-0.867480</td>\n",
       "      <td>0.245377</td>\n",
       "      <td>-1.154576</td>\n",
       "      <td>-1.076301</td>\n",
       "      <td>-1.177719</td>\n",
       "    </tr>\n",
       "    <tr>\n",
       "      <th>1</th>\n",
       "      <td>0.929593</td>\n",
       "      <td>0.802923</td>\n",
       "      <td>1.140416</td>\n",
       "      <td>0.951660</td>\n",
       "      <td>0.872114</td>\n",
       "      <td>1.016394</td>\n",
       "    </tr>\n",
       "    <tr>\n",
       "      <th>2</th>\n",
       "      <td>1.812070</td>\n",
       "      <td>0.176522</td>\n",
       "      <td>0.692896</td>\n",
       "      <td>1.618191</td>\n",
       "      <td>1.616841</td>\n",
       "      <td>1.635246</td>\n",
       "    </tr>\n",
       "    <tr>\n",
       "      <th>3</th>\n",
       "      <td>-0.099963</td>\n",
       "      <td>-0.797880</td>\n",
       "      <td>-0.649661</td>\n",
       "      <td>0.187372</td>\n",
       "      <td>0.144706</td>\n",
       "      <td>0.074050</td>\n",
       "    </tr>\n",
       "    <tr>\n",
       "      <th>4</th>\n",
       "      <td>1.475888</td>\n",
       "      <td>2.125326</td>\n",
       "      <td>-1.097180</td>\n",
       "      <td>1.360465</td>\n",
       "      <td>1.227158</td>\n",
       "      <td>1.593051</td>\n",
       "    </tr>\n",
       "  </tbody>\n",
       "</table>\n",
       "</div>"
      ],
      "text/plain": [
       "      carat     depth     table         x         y         z\n",
       "0 -1.003451 -0.867480  0.245377 -1.154576 -1.076301 -1.177719\n",
       "1  0.929593  0.802923  1.140416  0.951660  0.872114  1.016394\n",
       "2  1.812070  0.176522  0.692896  1.618191  1.616841  1.635246\n",
       "3 -0.099963 -0.797880 -0.649661  0.187372  0.144706  0.074050\n",
       "4  1.475888  2.125326 -1.097180  1.360465  1.227158  1.593051"
      ]
     },
     "execution_count": 7,
     "metadata": {},
     "output_type": "execute_result"
    }
   ],
   "source": [
    "estandarizadas = pd.DataFrame(estandarizacion.transform(df[['carat', 'depth', 'table', 'x', 'y',\n",
    "       'z']]), columns = ['carat', 'depth', 'table', 'x', 'y',\n",
    "       'z'])\n",
    "estandarizadas.head()"
   ]
  },
  {
   "cell_type": "code",
   "execution_count": 8,
   "id": "96c34d6a",
   "metadata": {},
   "outputs": [],
   "source": [
    "cut = pd.DataFrame(encoding_cut.transform(df[[\"cut\"]]), columns= [\"cut\"])\n",
    "color = pd.DataFrame(encoding_color.transform(df[[\"color\"]]), columns= [\"color\"])\n",
    "clarity = pd.DataFrame(encoding_clarity.transform(df[[\"clarity\"]]), columns= [\"clarity\"])"
   ]
  },
  {
   "cell_type": "code",
   "execution_count": 9,
   "id": "492efe94",
   "metadata": {},
   "outputs": [],
   "source": [
    "df_final = pd.concat([estandarizadas, cut, color, clarity], axis = 1)"
   ]
  },
  {
   "cell_type": "code",
   "execution_count": 10,
   "id": "f651cf90",
   "metadata": {},
   "outputs": [],
   "source": [
    "from sklearn.preprocessing import StandardScaler\n",
    "import numpy as np"
   ]
  },
  {
   "cell_type": "code",
   "execution_count": 11,
   "id": "deed8f6c",
   "metadata": {},
   "outputs": [
    {
     "name": "stderr",
     "output_type": "stream",
     "text": [
      "C:\\Users\\egcmo\\anaconda3\\lib\\site-packages\\sklearn\\base.py:493: FutureWarning: The feature names should match those that were passed during fit. Starting version 1.2, an error will be raised.\n",
      "Feature names must be in the same order as they were in fit.\n",
      "\n",
      "  warnings.warn(message, FutureWarning)\n"
     ]
    }
   ],
   "source": [
    "precios_estandarizados=modelo.predict(df_final)"
   ]
  },
  {
   "cell_type": "code",
   "execution_count": 12,
   "id": "3f27b2be",
   "metadata": {},
   "outputs": [
    {
     "data": {
      "text/plain": [
       "array([1.01268402, 2.21778259, 1.78881559, ..., 0.99399654, 1.88634922,\n",
       "       1.85317309])"
      ]
     },
     "execution_count": 12,
     "metadata": {},
     "output_type": "execute_result"
    }
   ],
   "source": [
    "precios_estandarizados"
   ]
  },
  {
   "cell_type": "code",
   "execution_count": null,
   "id": "8509be37",
   "metadata": {},
   "outputs": [],
   "source": []
  },
  {
   "cell_type": "code",
   "execution_count": 13,
   "id": "c732dfea",
   "metadata": {},
   "outputs": [],
   "source": [
    "#inverse_scalar\n",
    "import pickle\n",
    "\n",
    "with open('data/inverse_estandarizacion.pkl', 'rb') as f:\n",
    "    inverse_estandarizacion = pickle.load(f)\n"
   ]
  },
  {
   "cell_type": "code",
   "execution_count": 14,
   "id": "6b20ef27",
   "metadata": {},
   "outputs": [],
   "source": [
    "precio_final=inverse_estandarizacion.inverse_transform([precios_estandarizados])"
   ]
  },
  {
   "cell_type": "code",
   "execution_count": 15,
   "id": "caaf9ab0",
   "metadata": {},
   "outputs": [],
   "source": [
    "precio_final=precio_final.tolist()[0]"
   ]
  },
  {
   "cell_type": "code",
   "execution_count": 16,
   "id": "0d517fb4",
   "metadata": {},
   "outputs": [],
   "source": [
    "precio_final = pd.DataFrame({'price': precio_final})"
   ]
  },
  {
   "cell_type": "code",
   "execution_count": 17,
   "id": "e8b72866",
   "metadata": {},
   "outputs": [
    {
     "data": {
      "text/html": [
       "<div>\n",
       "<style scoped>\n",
       "    .dataframe tbody tr th:only-of-type {\n",
       "        vertical-align: middle;\n",
       "    }\n",
       "\n",
       "    .dataframe tbody tr th {\n",
       "        vertical-align: top;\n",
       "    }\n",
       "\n",
       "    .dataframe thead th {\n",
       "        text-align: right;\n",
       "    }\n",
       "</style>\n",
       "<table border=\"1\" class=\"dataframe\">\n",
       "  <thead>\n",
       "    <tr style=\"text-align: right;\">\n",
       "      <th></th>\n",
       "      <th>price</th>\n",
       "    </tr>\n",
       "  </thead>\n",
       "  <tbody>\n",
       "    <tr>\n",
       "      <th>0</th>\n",
       "      <td>8.813535</td>\n",
       "    </tr>\n",
       "    <tr>\n",
       "      <th>1</th>\n",
       "      <td>10.038898</td>\n",
       "    </tr>\n",
       "    <tr>\n",
       "      <th>2</th>\n",
       "      <td>9.602718</td>\n",
       "    </tr>\n",
       "    <tr>\n",
       "      <th>3</th>\n",
       "      <td>9.436211</td>\n",
       "    </tr>\n",
       "    <tr>\n",
       "      <th>4</th>\n",
       "      <td>9.402012</td>\n",
       "    </tr>\n",
       "  </tbody>\n",
       "</table>\n",
       "</div>"
      ],
      "text/plain": [
       "       price\n",
       "0   8.813535\n",
       "1  10.038898\n",
       "2   9.602718\n",
       "3   9.436211\n",
       "4   9.402012"
      ]
     },
     "execution_count": 17,
     "metadata": {},
     "output_type": "execute_result"
    }
   ],
   "source": [
    "precio_final.head()"
   ]
  },
  {
   "cell_type": "code",
   "execution_count": 18,
   "id": "e2b0a1b4",
   "metadata": {},
   "outputs": [],
   "source": [
    "df_precios_finales = pd.concat([df[\"id\"], precio_final], axis=1)"
   ]
  },
  {
   "cell_type": "code",
   "execution_count": 19,
   "id": "ed730883",
   "metadata": {},
   "outputs": [
    {
     "data": {
      "text/html": [
       "<div>\n",
       "<style scoped>\n",
       "    .dataframe tbody tr th:only-of-type {\n",
       "        vertical-align: middle;\n",
       "    }\n",
       "\n",
       "    .dataframe tbody tr th {\n",
       "        vertical-align: top;\n",
       "    }\n",
       "\n",
       "    .dataframe thead th {\n",
       "        text-align: right;\n",
       "    }\n",
       "</style>\n",
       "<table border=\"1\" class=\"dataframe\">\n",
       "  <thead>\n",
       "    <tr style=\"text-align: right;\">\n",
       "      <th></th>\n",
       "      <th>id</th>\n",
       "      <th>price</th>\n",
       "    </tr>\n",
       "  </thead>\n",
       "  <tbody>\n",
       "    <tr>\n",
       "      <th>13480</th>\n",
       "      <td>13480</td>\n",
       "      <td>10.076154</td>\n",
       "    </tr>\n",
       "    <tr>\n",
       "      <th>13481</th>\n",
       "      <td>13481</td>\n",
       "      <td>9.616174</td>\n",
       "    </tr>\n",
       "    <tr>\n",
       "      <th>13482</th>\n",
       "      <td>13482</td>\n",
       "      <td>8.794533</td>\n",
       "    </tr>\n",
       "    <tr>\n",
       "      <th>13483</th>\n",
       "      <td>13483</td>\n",
       "      <td>9.701892</td>\n",
       "    </tr>\n",
       "    <tr>\n",
       "      <th>13484</th>\n",
       "      <td>13484</td>\n",
       "      <td>9.668158</td>\n",
       "    </tr>\n",
       "  </tbody>\n",
       "</table>\n",
       "</div>"
      ],
      "text/plain": [
       "          id      price\n",
       "13480  13480  10.076154\n",
       "13481  13481   9.616174\n",
       "13482  13482   8.794533\n",
       "13483  13483   9.701892\n",
       "13484  13484   9.668158"
      ]
     },
     "execution_count": 19,
     "metadata": {},
     "output_type": "execute_result"
    }
   ],
   "source": [
    "df_precios_finales.tail()"
   ]
  },
  {
   "cell_type": "code",
   "execution_count": 21,
   "id": "9a824d75",
   "metadata": {},
   "outputs": [],
   "source": [
    "df_precios_finales.to_csv(\"data/submission_gradient3.csv\", index=False)"
   ]
  }
 ],
 "metadata": {
  "kernelspec": {
   "display_name": "Python 3 (ipykernel)",
   "language": "python",
   "name": "python3"
  },
  "language_info": {
   "codemirror_mode": {
    "name": "ipython",
    "version": 3
   },
   "file_extension": ".py",
   "mimetype": "text/x-python",
   "name": "python",
   "nbconvert_exporter": "python",
   "pygments_lexer": "ipython3",
   "version": "3.9.12"
  }
 },
 "nbformat": 4,
 "nbformat_minor": 5
}
