{
 "cells": [
  {
   "cell_type": "code",
   "execution_count": 1,
   "id": "e696cee1",
   "metadata": {},
   "outputs": [],
   "source": [
    "import pandas as pd\n",
    "import numpy as np\n",
    "\n",
    "# librerías de visualización\n",
    "import seaborn as sns\n",
    "import matplotlib.pyplot as plt\n",
    "\n",
    "# librerías para crear el modelo\n",
    "from sklearn.model_selection import train_test_split\n",
    "from sklearn.preprocessing import StandardScaler\n",
    "from sklearn.model_selection import GridSearchCV\n",
    "from sklearn.preprocessing import OneHotEncoder  \n",
    "\n",
    "from sklearn import tree\n",
    "\n",
    "# para calcular las métricas\n",
    "from sklearn.metrics import confusion_matrix\n",
    "from sklearn.metrics import accuracy_score \n",
    "from sklearn.metrics import precision_score \n",
    "from sklearn.metrics import recall_score \n",
    "from sklearn.metrics import f1_score \n",
    "from sklearn.metrics import cohen_kappa_score\n",
    "\n",
    "\n",
    "from sklearn.linear_model import LogisticRegression\n",
    "from sklearn.ensemble import RandomForestClassifier\n",
    "from sklearn.tree import DecisionTreeClassifier\n",
    "\n",
    "from sklearn.linear_model import LinearRegression\n",
    "from sklearn.ensemble import RandomForestRegressor\n",
    "from sklearn.tree import DecisionTreeRegressor \n",
    "from sklearn.model_selection import GridSearchCV\n",
    "from sklearn import tree\n",
    "\n",
    "\n",
    "from sklearn.preprocessing import OrdinalEncoder\n",
    "from sklearn.model_selection import cross_val_score\n",
    "from sklearn.neighbors import KNeighborsRegressor\n",
    "from sklearn.metrics import classification_report, confusion_matrix, accuracy_score\n",
    "from sklearn.ensemble import GradientBoostingRegressor\n",
    "from sklearn.model_selection import RandomizedSearchCV\n",
    "\n",
    "import warnings\n",
    "warnings.filterwarnings(\"ignore\")"
   ]
  },
  {
   "cell_type": "code",
   "execution_count": 3,
   "id": "790c8014",
   "metadata": {},
   "outputs": [
    {
     "data": {
      "text/html": [
       "<div>\n",
       "<style scoped>\n",
       "    .dataframe tbody tr th:only-of-type {\n",
       "        vertical-align: middle;\n",
       "    }\n",
       "\n",
       "    .dataframe tbody tr th {\n",
       "        vertical-align: top;\n",
       "    }\n",
       "\n",
       "    .dataframe thead th {\n",
       "        text-align: right;\n",
       "    }\n",
       "</style>\n",
       "<table border=\"1\" class=\"dataframe\">\n",
       "  <thead>\n",
       "    <tr style=\"text-align: right;\">\n",
       "      <th></th>\n",
       "      <th>Unnamed: 0</th>\n",
       "      <th>id</th>\n",
       "      <th>carat</th>\n",
       "      <th>cut</th>\n",
       "      <th>color</th>\n",
       "      <th>clarity</th>\n",
       "      <th>depth</th>\n",
       "      <th>table</th>\n",
       "      <th>x</th>\n",
       "      <th>y</th>\n",
       "      <th>z</th>\n",
       "      <th>price</th>\n",
       "    </tr>\n",
       "  </thead>\n",
       "  <tbody>\n",
       "    <tr>\n",
       "      <th>0</th>\n",
       "      <td>0</td>\n",
       "      <td>0</td>\n",
       "      <td>0.30</td>\n",
       "      <td>Premium</td>\n",
       "      <td>D</td>\n",
       "      <td>SI2</td>\n",
       "      <td>62.4</td>\n",
       "      <td>58.0</td>\n",
       "      <td>4.31</td>\n",
       "      <td>4.28</td>\n",
       "      <td>2.68</td>\n",
       "      <td>6.353</td>\n",
       "    </tr>\n",
       "    <tr>\n",
       "      <th>1</th>\n",
       "      <td>1</td>\n",
       "      <td>1</td>\n",
       "      <td>1.01</td>\n",
       "      <td>Ideal</td>\n",
       "      <td>E</td>\n",
       "      <td>VVS2</td>\n",
       "      <td>62.7</td>\n",
       "      <td>56.0</td>\n",
       "      <td>6.42</td>\n",
       "      <td>6.46</td>\n",
       "      <td>4.04</td>\n",
       "      <td>9.183</td>\n",
       "    </tr>\n",
       "    <tr>\n",
       "      <th>2</th>\n",
       "      <td>2</td>\n",
       "      <td>2</td>\n",
       "      <td>0.72</td>\n",
       "      <td>Ideal</td>\n",
       "      <td>F</td>\n",
       "      <td>VS2</td>\n",
       "      <td>61.8</td>\n",
       "      <td>59.0</td>\n",
       "      <td>5.71</td>\n",
       "      <td>5.74</td>\n",
       "      <td>3.54</td>\n",
       "      <td>7.983</td>\n",
       "    </tr>\n",
       "    <tr>\n",
       "      <th>3</th>\n",
       "      <td>3</td>\n",
       "      <td>3</td>\n",
       "      <td>1.08</td>\n",
       "      <td>Very Good</td>\n",
       "      <td>G</td>\n",
       "      <td>SI2</td>\n",
       "      <td>63.2</td>\n",
       "      <td>57.0</td>\n",
       "      <td>6.54</td>\n",
       "      <td>6.50</td>\n",
       "      <td>4.12</td>\n",
       "      <td>8.371</td>\n",
       "    </tr>\n",
       "    <tr>\n",
       "      <th>4</th>\n",
       "      <td>4</td>\n",
       "      <td>4</td>\n",
       "      <td>0.36</td>\n",
       "      <td>Premium</td>\n",
       "      <td>G</td>\n",
       "      <td>VS1</td>\n",
       "      <td>62.3</td>\n",
       "      <td>59.0</td>\n",
       "      <td>4.50</td>\n",
       "      <td>4.55</td>\n",
       "      <td>2.82</td>\n",
       "      <td>6.588</td>\n",
       "    </tr>\n",
       "  </tbody>\n",
       "</table>\n",
       "</div>"
      ],
      "text/plain": [
       "   Unnamed: 0  id  carat        cut color clarity  depth  table     x     y  \\\n",
       "0           0   0   0.30    Premium     D     SI2   62.4   58.0  4.31  4.28   \n",
       "1           1   1   1.01      Ideal     E    VVS2   62.7   56.0  6.42  6.46   \n",
       "2           2   2   0.72      Ideal     F     VS2   61.8   59.0  5.71  5.74   \n",
       "3           3   3   1.08  Very Good     G     SI2   63.2   57.0  6.54  6.50   \n",
       "4           4   4   0.36    Premium     G     VS1   62.3   59.0  4.50  4.55   \n",
       "\n",
       "      z  price  \n",
       "0  2.68  6.353  \n",
       "1  4.04  9.183  \n",
       "2  3.54  7.983  \n",
       "3  4.12  8.371  \n",
       "4  2.82  6.588  "
      ]
     },
     "execution_count": 3,
     "metadata": {},
     "output_type": "execute_result"
    }
   ],
   "source": [
    "df = pd.read_csv('data/train1.csv')\n",
    "df.head()"
   ]
  },
  {
   "cell_type": "code",
   "execution_count": null,
   "id": "caf1fb04",
   "metadata": {},
   "outputs": [],
   "source": [
    "X = df.drop([\"id\",'price'], axis =1)\n",
    "y = df['price']\n",
    "\n",
    "\n",
    "X_train, X_test, y_train, y_test = train_test_split(X, y, train_size   = 0.8, random_state = 42)"
   ]
  },
  {
   "cell_type": "code",
   "execution_count": null,
   "id": "583b3b59",
   "metadata": {},
   "outputs": [],
   "source": [
    "print(\"Datos de entrenamiento\")\n",
    "print(\"-----------------------\")\n",
    "print(y_train.describe())"
   ]
  },
  {
   "cell_type": "code",
   "execution_count": null,
   "id": "08761e0d",
   "metadata": {},
   "outputs": [],
   "source": [
    "print(\"Datos de testeo\")\n",
    "print(\"-----------------------\")\n",
    "print(y_test.describe())"
   ]
  },
  {
   "cell_type": "code",
   "execution_count": null,
   "id": "957a8590",
   "metadata": {},
   "outputs": [],
   "source": [
    "# create a regressor object\n",
    "regressor = DecisionTreeRegressor(random_state = 0) \n",
    "  \n",
    "# fit the regressor with X and Y data\n",
    "regressor.fit(X_train, y_train)"
   ]
  },
  {
   "cell_type": "code",
   "execution_count": null,
   "id": "58602f6a",
   "metadata": {},
   "outputs": [],
   "source": [
    "max_features = np.sqrt(len(X_train.columns))\n",
    "max_features"
   ]
  },
  {
   "cell_type": "code",
   "execution_count": null,
   "id": "4030856f",
   "metadata": {},
   "outputs": [],
   "source": [
    "print(regressor.tree_.max_depth)"
   ]
  },
  {
   "cell_type": "code",
   "execution_count": null,
   "id": "ba132004",
   "metadata": {},
   "outputs": [],
   "source": [
    "y_pred_test_dt = regressor.predict(X_test)\n",
    "y_pred_train_dt = regressor.predict(X_train)"
   ]
  },
  {
   "cell_type": "code",
   "execution_count": null,
   "id": "9e6ad7aa",
   "metadata": {},
   "outputs": [],
   "source": [
    "from sklearn import metrics"
   ]
  },
  {
   "cell_type": "code",
   "execution_count": null,
   "id": "ed58643d",
   "metadata": {},
   "outputs": [],
   "source": [
    "def metricas(y_test, y_train, y_test_pred, y_train_pred, tipo_modelo):\n",
    "    \n",
    "    \n",
    "    resultados = {'MAE': [metrics.mean_absolute_error(y_test, y_test_pred), metrics.mean_absolute_error(y_train, y_train_pred)],\n",
    "                'MSE': [metrics.mean_squared_error(y_test, y_test_pred), metrics.mean_squared_error(y_train, y_train_pred)],\n",
    "                'RMSE': [np.sqrt(metrics.mean_squared_error(y_test, y_test_pred)), np.sqrt(metrics.mean_squared_error(y_train, y_train_pred))],\n",
    "                'R2':  [metrics.r2_score(y_test, y_test_pred), metrics.r2_score(y_train, y_train_pred)],\n",
    "                 \"set\": [\"test\", \"train\"]}\n",
    "    df = pd.DataFrame(resultados)\n",
    "    df[\"modelo\"] = tipo_modelo\n",
    "    return df"
   ]
  },
  {
   "cell_type": "code",
   "execution_count": null,
   "id": "6a691c5f",
   "metadata": {},
   "outputs": [],
   "source": [
    "dt_results1 = metricas(y_test, y_train, y_pred_test_dt, y_pred_train_dt, \"Decission Tree I\")\n",
    "dt_results1 #muy overfit"
   ]
  },
  {
   "cell_type": "code",
   "execution_count": null,
   "id": "ef8671cf",
   "metadata": {},
   "outputs": [],
   "source": [
    "importancia_predictores = pd.DataFrame(\n",
    "                            {'predictor': X_train.columns,\n",
    "                             'importancia': regressor.feature_importances_}\n",
    "                            )\n",
    "print(\"Importancia de los predictores en el modelo\")\n",
    "print(\"-------------------------------------------\")\n",
    "importancia_predictores"
   ]
  },
  {
   "cell_type": "markdown",
   "id": "30b664aa",
   "metadata": {},
   "source": [
    "# decision tree"
   ]
  },
  {
   "cell_type": "code",
   "execution_count": null,
   "id": "8d6d746b",
   "metadata": {},
   "outputs": [],
   "source": [
    "max_features = np.sqrt(len(X_train.columns))\n",
    "max_features"
   ]
  },
  {
   "cell_type": "code",
   "execution_count": null,
   "id": "7e7ac5e5",
   "metadata": {},
   "outputs": [],
   "source": [
    "param = {\n",
    "    \"max_depth\": list(range(1, 36)),\n",
    "    \"min_samples_split\": [2, 5, 10, 20],\n",
    "    \"max_features\": [1, 2, 3]\n",
    "}\n",
    "\n",
    "arbol2 = GridSearchCV(\n",
    "            estimator=DecisionTreeRegressor(),\n",
    "            param_grid= param,\n",
    "            cv=10,\n",
    "            verbose=0,\n",
    "            n_jobs = -1,\n",
    "            return_train_score = True,\n",
    "            scoring=\"neg_mean_squared_error\")"
   ]
  },
  {
   "cell_type": "code",
   "execution_count": null,
   "id": "f4293286",
   "metadata": {},
   "outputs": [],
   "source": [
    "arbol2.fit(X_train, y_train)"
   ]
  },
  {
   "cell_type": "code",
   "execution_count": null,
   "id": "3b3d5298",
   "metadata": {},
   "outputs": [],
   "source": [
    "best_tree = arbol2.best_estimator_\n",
    "best_tree"
   ]
  },
  {
   "cell_type": "code",
   "execution_count": null,
   "id": "51c1abf5",
   "metadata": {},
   "outputs": [],
   "source": [
    "y_pred_test_dt2 = best_tree.predict(X_test)\n",
    "y_pred_train_dt2 = best_tree.predict(X_train)"
   ]
  },
  {
   "cell_type": "code",
   "execution_count": null,
   "id": "de9852aa",
   "metadata": {},
   "outputs": [],
   "source": [
    "dt_results2 = metricas(y_test, y_train, y_pred_test_dt2, y_pred_train_dt2, \"Decision tree II\")"
   ]
  },
  {
   "cell_type": "code",
   "execution_count": null,
   "id": "44cefeba",
   "metadata": {},
   "outputs": [],
   "source": [
    "dt_results2"
   ]
  },
  {
   "cell_type": "code",
   "execution_count": null,
   "id": "46cec2ab",
   "metadata": {},
   "outputs": [],
   "source": [
    "import pickle\n",
    "with open('data/2_primer_modelo.pkl', 'wb') as modelo:\n",
    "        pickle.dump(best_tree, modelo)"
   ]
  },
  {
   "cell_type": "markdown",
   "id": "45e8ac8f",
   "metadata": {},
   "source": [
    "## Random Forest"
   ]
  },
  {
   "cell_type": "code",
   "execution_count": null,
   "id": "92842862",
   "metadata": {},
   "outputs": [],
   "source": [
    "param = {    \"max_depth\": list(range(1, 36)),\n",
    "    \"min_samples_split\": [2, 5, 10, 20],\n",
    "    \"max_features\": [1, 2, 3]}\n",
    "\n",
    "bosque = GridSearchCV(\n",
    "            estimator=RandomForestRegressor(),\n",
    "            param_grid= param,\n",
    "            cv=10,\n",
    "            verbose=0,\n",
    "            n_jobs = -1,\n",
    "            return_train_score = True,\n",
    "            scoring=\"neg_mean_squared_error\")"
   ]
  },
  {
   "cell_type": "code",
   "execution_count": null,
   "id": "09b26430",
   "metadata": {},
   "outputs": [],
   "source": [
    "bosque.fit(X_train, y_train)"
   ]
  },
  {
   "cell_type": "code",
   "execution_count": null,
   "id": "2d9c8d7b",
   "metadata": {},
   "outputs": [],
   "source": [
    "bos = bosque.best_estimator_"
   ]
  },
  {
   "cell_type": "code",
   "execution_count": null,
   "id": "c2438478",
   "metadata": {},
   "outputs": [],
   "source": [
    "y_pred_test_rf = bos.predict(X_test)\n",
    "y_pred_train_rf = bos.predict(X_train)"
   ]
  },
  {
   "cell_type": "code",
   "execution_count": null,
   "id": "d9f21810",
   "metadata": {},
   "outputs": [],
   "source": [
    "rf_results = metricas(y_test, y_train, y_pred_test_rf, y_pred_train_rf, \"Random Forest\")\n",
    "rf_results"
   ]
  },
  {
   "cell_type": "code",
   "execution_count": null,
   "id": "d172e4bf",
   "metadata": {},
   "outputs": [],
   "source": [
    "import pickle\n",
    "with open('data/2_segundo_modelo.pkl', 'wb') as modelo:\n",
    "        pickle.dump(bos, modelo)"
   ]
  },
  {
   "cell_type": "markdown",
   "id": "b14e071f",
   "metadata": {},
   "source": [
    "## Gradient"
   ]
  },
  {
   "cell_type": "code",
   "execution_count": null,
   "id": "eda86297",
   "metadata": {},
   "outputs": [],
   "source": [
    "from sklearn.model_selection import GridSearchCV\n",
    "from sklearn.ensemble import GradientBoostingRegressor\n",
    "from multiprocessing import cpu_count"
   ]
  },
  {
   "cell_type": "code",
   "execution_count": null,
   "id": "b014316a",
   "metadata": {},
   "outputs": [],
   "source": [
    "# Define hyperparameter grid\n",
    "param_grid = {\n",
    "    \"max_depth\": [2,3,4],\n",
    "    \"min_samples_split\": [50,100,150],\n",
    "    \"max_features\": [1,2,3],\n",
    "    \"min_samples_leaf\": [50,100,150]\n",
    "}\n",
    "\n",
    "# Create Gradient Boosting Regressor object\n",
    "gb = GradientBoostingRegressor()\n",
    "\n",
    "# Create GridSearchCV object with 10-fold cross-validation\n",
    "grid_search = GridSearchCV(estimator=gb, param_grid=param_grid, cv=10, n_jobs=cpu_count())\n",
    "\n",
    "# Fit the grid search to the training data\n",
    "grid_search.fit(X_train, y_train)"
   ]
  },
  {
   "cell_type": "code",
   "execution_count": null,
   "id": "16ce1b93",
   "metadata": {},
   "outputs": [],
   "source": [
    "y_pred_gb_test= grid_search.predict(X_test)\n",
    "y_pred_gb_train= grid_search.predict(X_train)"
   ]
  },
  {
   "cell_type": "code",
   "execution_count": null,
   "id": "c215a491",
   "metadata": {},
   "outputs": [],
   "source": [
    "rf_results = metricas(y_test, y_train, y_pred_gb_test, y_pred_gb_train, \"Gradient\")\n",
    "rf_results"
   ]
  },
  {
   "cell_type": "code",
   "execution_count": null,
   "id": "24926484",
   "metadata": {},
   "outputs": [],
   "source": [
    "with open('data/gradient_modelo2.pkl', 'wb') as modelo:\n",
    "        pickle.dump(grid_search, modelo)"
   ]
  },
  {
   "cell_type": "code",
   "execution_count": null,
   "id": "4bac7cf3",
   "metadata": {},
   "outputs": [],
   "source": []
  },
  {
   "cell_type": "code",
   "execution_count": null,
   "id": "414a87b0",
   "metadata": {},
   "outputs": [],
   "source": []
  },
  {
   "cell_type": "code",
   "execution_count": null,
   "id": "576857bb",
   "metadata": {},
   "outputs": [],
   "source": []
  },
  {
   "cell_type": "code",
   "execution_count": null,
   "id": "9d25cedd",
   "metadata": {},
   "outputs": [],
   "source": [
    "# Grid de hiperparámetros evaluados\n",
    "# ==============================================================================\n",
    "param = {\"max_depth\": [2,3, 4,6,8,10],\n",
    "         \"min_samples_split\": [50, 100, 150, 200, 250],\n",
    "         \"max_features\": [1,2,3,4], \n",
    "         \"min_samples_leaf\": [50, 100, 150, 200, 250]}\n",
    "\n",
    "# Búsqueda por grid search con validación cruzada\n",
    "# ==============================================================================\n",
    "grid = GridSearchCV(\n",
    "        estimator  = GradientBoostingRegressor(),\n",
    "        param_grid = param,\n",
    "        n_jobs     = -1,\n",
    "        verbose    = 1,\n",
    "        cv         = 10, \n",
    "        return_train_score = True\n",
    "       )\n",
    "\n",
    "grid.fit(X = X_train, y = y_train)"
   ]
  },
  {
   "cell_type": "code",
   "execution_count": null,
   "id": "c3c72065",
   "metadata": {},
   "outputs": [],
   "source": [
    "y_pred_gb_test= grid.predict(X_test)\n",
    "y_pred_gb_train= grid.predict(X_train)"
   ]
  },
  {
   "cell_type": "code",
   "execution_count": null,
   "id": "6afce5d3",
   "metadata": {},
   "outputs": [],
   "source": [
    "rf_results = metricas(y_test, y_train, y_pred_gb_test, y_pred_gb_train, \"Gradient\")\n",
    "rf_results"
   ]
  },
  {
   "cell_type": "code",
   "execution_count": null,
   "id": "1dee8cd7",
   "metadata": {},
   "outputs": [],
   "source": [
    "with open('data/gradient_modelo3.pkl', 'wb') as modelo:\n",
    "        pickle.dump(grid_search, modelo)"
   ]
  }
 ],
 "metadata": {
  "kernelspec": {
   "display_name": "Python 3 (ipykernel)",
   "language": "python",
   "name": "python3"
  },
  "language_info": {
   "codemirror_mode": {
    "name": "ipython",
    "version": 3
   },
   "file_extension": ".py",
   "mimetype": "text/x-python",
   "name": "python",
   "nbconvert_exporter": "python",
   "pygments_lexer": "ipython3",
   "version": "3.9.12"
  }
 },
 "nbformat": 4,
 "nbformat_minor": 5
}
